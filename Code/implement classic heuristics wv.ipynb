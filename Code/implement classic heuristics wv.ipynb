{
 "cells": [
  {
   "cell_type": "code",
   "execution_count": 561,
   "metadata": {},
   "outputs": [],
   "source": [
    "import matplotlib.pyplot as plt\n",
    "import numpy as np\n",
    "import random\n",
    "import math"
   ]
  },
  {
   "cell_type": "code",
   "execution_count": 562,
   "metadata": {},
   "outputs": [],
   "source": [
    "class data_preprocessing:\n",
    "    def __init__(self,instance_path):\n",
    "        self.instance_path=instance_path\n",
    "        \n",
    "        self.info, self.flights = self.read_file(f_name=self.instance_path)\n",
    "        \n",
    "        self.flights_by_day_dict = self.flights_by_day(flight_list=self.flights)\n",
    "        self.list_days= self.flights_by_day_dict.keys()\n",
    "        self.airports_by_area = self.get_airports_by_areas()\n",
    "        self.list_airports=self.get_list_of_airports()\n",
    "        self.list_areas=list(self.airports_by_area.keys())\n",
    "        \n",
    "        self.number_of_areas,self.starting_airport=int(self.info[0][0]),self.info[0][1]\n",
    "        self.starting_area=self.associated_area_to_airport(airport=self.starting_airport)\n",
    "        \n",
    "    def read_file(self,f_name):\n",
    "        dist = []\n",
    "        line_nu = -1\n",
    "        with open(f_name) as infile:\n",
    "            for line in infile:\n",
    "                line_nu += 1\n",
    "                if line_nu == 0:\n",
    "                    index = int(line.split()[0]) * 2 + 1\n",
    "                if line_nu >= index:\n",
    "                    temp = line.split()\n",
    "                    temp[2] = int(temp[2])\n",
    "                    temp[3] = int(temp[3])\n",
    "                    dist.append(temp)\n",
    "                else:\n",
    "                    dist.append(line.split())\n",
    "            info = dist[:int(dist[0][0])*2+1]\n",
    "            flights = dist[int(dist[0][0])*2+1:]\n",
    "        return info, flights\n",
    "    \n",
    "    def flights_by_day(self,flight_list):\n",
    "        # Create an empty dictionary to hold flights organized by day\n",
    "        flights_by_day = {}\n",
    "\n",
    "        # Iterate over each flight in the input list\n",
    "        for flight in flight_list:\n",
    "            # Extract the day from the flight entry\n",
    "            day = flight[2]\n",
    "\n",
    "            # Create a flight entry without the day\n",
    "            flight_without_day = flight[:2] + flight[3:]\n",
    "\n",
    "            # Add the flight to the corresponding day in the dictionary\n",
    "            if day not in flights_by_day:\n",
    "                flights_by_day[day] = []\n",
    "            flights_by_day[day].append(flight_without_day)\n",
    "            \n",
    "        return flights_by_day\n",
    "    \n",
    "    def flights_from_airport(self,flights_by_day, from_airport, considered_day):\n",
    "        flights_from_airport = []\n",
    "        for day, flights in flights_by_day.items():\n",
    "            if day==considered_day:\n",
    "                for flight in flights:\n",
    "                    if flight[0] == from_airport:\n",
    "                        flights_from_airport.append(flight)\n",
    "                return flights_from_airport\n",
    "            else:\n",
    "                return None\n",
    "\n",
    "    def get_cost(self, day, from_airport, to_airport):\n",
    "        flights = self.flights_by_day_dict.get(day, [])\n",
    "        return next(\n",
    "            (\n",
    "                flight[2]\n",
    "                for flight in flights\n",
    "                if flight[0] == from_airport and flight[1] == to_airport\n",
    "            ),\n",
    "            float('inf'),\n",
    "        )\n",
    "    \n",
    "    def get_airports_by_areas(self):\n",
    "        area_num = int(self.info[0][0])\n",
    "        return {f\"{i}\": self.info[2+i * 2] for i in range(0, area_num)}\n",
    "    \n",
    "    def get_list_of_airports(self):\n",
    "        unique_airports = set()\n",
    "\n",
    "        # Iterate through each sublist and add elements to the set\n",
    "        for sublist in self.airports_by_area.values():\n",
    "            for airport in sublist:\n",
    "                unique_airports.add(airport)\n",
    "        \n",
    "        return list(unique_airports)\n",
    "                    \n",
    "    def associated_area_to_airport(self,airport):\n",
    "        return next(\n",
    "            (\n",
    "                area\n",
    "                for area, airports in self.airports_by_area.items()\n",
    "                if airport in airports\n",
    "            ),\n",
    "            \"Airport not found\",\n",
    "        ) \n",
    "    \n",
    "    def possible_flights_from_an_airport_at_a_specific_day(self,day,from_airport):\n",
    "        daily_flights = self.flights_by_day_dict.get(day, [])\n",
    "        \n",
    "        flights_from_airport = []\n",
    "        for flight in daily_flights:\n",
    "            if flight[0] == from_airport:\n",
    "                \n",
    "                destination_area = self.associated_area_to_airport(airport=flight[1])\n",
    "                if destination_area not in self.visited_areas:\n",
    "                    flights_from_airport.append(flight)\n",
    "\n",
    "        return flights_from_airport"
   ]
  },
  {
   "cell_type": "code",
   "execution_count": 563,
   "metadata": {},
   "outputs": [],
   "source": [
    "Data_Preprocessing=data_preprocessing(instance_path=\"Flight connections dataset/1.in\")"
   ]
  },
  {
   "cell_type": "code",
   "execution_count": 564,
   "metadata": {},
   "outputs": [],
   "source": [
    "class heuristic_operators:\n",
    "    def __init__(self):\n",
    "        pass\n",
    "\n",
    "    @staticmethod\n",
    "    def swap(arr, a, b):\n",
    "        arr[a],arr[b] = arr[b], arr[a]\n",
    "\n",
    "    @staticmethod\n",
    "    def reverse(arr, a, b):\n",
    "        if a > b:\n",
    "            a, b = b, a\n",
    "        arr[a:b+1] = arr[a:b+1][::-1]\n",
    "\n",
    "    @staticmethod\n",
    "    def insert(arr, a, b):\n",
    "        temp = arr[a]\n",
    "        del arr[a]\n",
    "        arr.insert(b, temp)\n",
    "\n",
    "    @staticmethod\n",
    "    def swap_k(arr, a, areas_n):\n",
    "        s = np.random.randint(1, areas_n, size=a * 2)\n",
    "        for i in range((a // 2) + 2):\n",
    "            temp = arr[s[i]]\n",
    "            arr[s[i]] = arr[s[i + 1]]\n",
    "            arr[s[i + 1]] = temp\n",
    "            \n",
    "    @staticmethod\n",
    "    def swap_target(arr, from_index, to_index):\n",
    "\n",
    "        if from_index >= len(arr) or to_index >= len(arr):\n",
    "            raise IndexError(\"Target or position is out of range\")\n",
    "        \n",
    "        arr[from_index], arr[to_index] = arr[to_index], arr[from_index]"
   ]
  },
  {
   "cell_type": "code",
   "execution_count": 565,
   "metadata": {},
   "outputs": [
    {
     "data": {
      "text/plain": [
       "[1, 3, 2, 4]"
      ]
     },
     "execution_count": 565,
     "metadata": {},
     "output_type": "execute_result"
    }
   ],
   "source": [
    "a=[1,2,3,4]\n",
    "heuristic_operators.swap_target(a, from_index=2, to_index=1)\n",
    "a"
   ]
  },
  {
   "cell_type": "code",
   "execution_count": 566,
   "metadata": {},
   "outputs": [
    {
     "data": {
      "text/plain": [
       "10"
      ]
     },
     "execution_count": 566,
     "metadata": {},
     "output_type": "execute_result"
    }
   ],
   "source": [
    "len(Data_Preprocessing.list_days)"
   ]
  },
  {
   "cell_type": "code",
   "execution_count": 567,
   "metadata": {},
   "outputs": [
    {
     "data": {
      "text/plain": [
       "{'0': ['AB0'],\n",
       " '1': ['AB1'],\n",
       " '2': ['AB2'],\n",
       " '3': ['AB3'],\n",
       " '4': ['AB4'],\n",
       " '5': ['AB5'],\n",
       " '6': ['AB6'],\n",
       " '7': ['AB7'],\n",
       " '8': ['AB8'],\n",
       " '9': ['AB9']}"
      ]
     },
     "execution_count": 567,
     "metadata": {},
     "output_type": "execute_result"
    }
   ],
   "source": [
    "Data_Preprocessing.airports_by_area"
   ]
  },
  {
   "cell_type": "code",
   "execution_count": 568,
   "metadata": {},
   "outputs": [
    {
     "name": "stdout",
     "output_type": "stream",
     "text": [
      "['0', '1', '2', '3', '4', '5', '6', '7', '8', '9', '0']\n",
      "['AB0', 'AB1', 'AB2', 'AB3', 'AB4', 'AB5', 'AB6', 'AB7', 'AB8', 'AB9', 'AB0']\n",
      "{0: 1, 1: 5848, 2: 5770, 3: 3280, 4: 196, 5: 1889, 6: 2172, 7: 5985, 8: 2841, 9: 101}\n"
     ]
    }
   ],
   "source": [
    "class heuristics:\n",
    "    def __init__(self, data_preprocessing_class):\n",
    "        self.data = data_preprocessing_class\n",
    "        \n",
    "        self.starting_airport = self.data.starting_airport\n",
    "        self.starting_area=self.data.starting_area\n",
    "        \n",
    "        self.total_cost = 0\n",
    "        \n",
    "        self.create_initial_random_solution()\n",
    "        self.check_feasibility_airports(airport_solution=self.airport_initial_solution)\n",
    "        self.check_feasibility_area(area_solution=self.area_initial_solution)\n",
    "    \n",
    "    def cost(self, airport_solution):\n",
    "        total_cost = 0\n",
    "        for day, (from_airport, to_airport) in enumerate(zip(airport_solution, airport_solution[1:]), start=min(self.data.list_days)):\n",
    "            total_cost += self.data.get_cost(day, from_airport, to_airport)\n",
    "        return total_cost\n",
    "\n",
    "    def create_initial_random_solution(self):\n",
    "        area_initial_solution=self.data.list_areas\n",
    "        \n",
    "        for k in range(len(area_initial_solution)):\n",
    "            if area_initial_solution[k]==self.starting_area:\n",
    "                heuristic_operators.swap_target(arr=area_initial_solution,\n",
    "                                                from_index=k,\n",
    "                                                to_index=0)\n",
    "        area_initial_solution.append(self.starting_area)\n",
    "        self.area_initial_solution=area_initial_solution\n",
    "        \n",
    "        self.airport_initial_solution=self.area_initial_solution.copy()\n",
    "        \n",
    "        for k in range(len(self.area_initial_solution)):\n",
    "            self.airport_initial_solution[k]=random.choice(self.data.airports_by_area.get(self.area_initial_solution[k]))\n",
    "    \n",
    "    def check_feasibility_area(self, area_solution):\n",
    "        #Area solution\n",
    "        if area_solution[0]!=area_solution[-1]:\n",
    "            return False\n",
    "        \n",
    "        # Ensure each area is visited exactly once, except the starting/ending area\n",
    "        area_counts = {area: area_solution.count(area) for area in set(area_solution)}\n",
    "        area_counts = dict(sorted(area_counts.items()))\n",
    "\n",
    "        # Check the counts\n",
    "        if area_counts[self.starting_area] != 2:\n",
    "            return False\n",
    "        for area in self.data.list_areas:\n",
    "            if area != self.starting_area and area_counts.get(area, 0) != 1:\n",
    "                return False\n",
    "\n",
    "        return True\n",
    "\n",
    "    def check_feasibility_airports(self,airport_solution):\n",
    "        airport_solution_feasibility=airport_solution.copy()[:-1]\n",
    "        airport_solution_feasibility={}\n",
    "\n",
    "        # Iterate over the range of the length of the airport solution minus 1\n",
    "        for k in range(len(airport_solution) - 1):\n",
    "            # Calculate the cost and assign it to the dictionary with key k\n",
    "            airport_solution_feasibility[k] = self.data.get_cost(\n",
    "                day=k + min(Data_Preprocessing.list_days),\n",
    "                from_airport=airport_solution[k],\n",
    "                to_airport=airport_solution[k + 1]\n",
    "            )\n",
    "\n",
    "        self.airport_feasibility=airport_solution_feasibility\n",
    "\n",
    "\n",
    "Heuristics = heuristics(data_preprocessing_class=Data_Preprocessing)\n",
    "print(Heuristics.area_initial_solution)\n",
    "print(Heuristics.airport_initial_solution)\n",
    "print(Heuristics.airport_feasibility)"
   ]
  },
  {
   "cell_type": "code",
   "execution_count": 569,
   "metadata": {},
   "outputs": [
    {
     "data": {
      "text/plain": [
       "{0: 1,\n",
       " 1: 5848,\n",
       " 2: 5770,\n",
       " 3: 3280,\n",
       " 4: 196,\n",
       " 5: 1889,\n",
       " 6: 2172,\n",
       " 7: 5985,\n",
       " 8: 2841,\n",
       " 9: 101}"
      ]
     },
     "execution_count": 569,
     "metadata": {},
     "output_type": "execute_result"
    }
   ],
   "source": [
    "airport_solution=['AB0', 'AB1', 'AB2', 'AB3', 'AB4', 'AB5', 'AB6', 'AB7', 'AB8', 'AB9', 'AB0']\n",
    "airport_solution_feasibility=airport_solution.copy()[:-1]\n",
    "airport_solution_feasibility={}\n",
    "\n",
    "# Iterate over the range of the length of the airport solution minus 1\n",
    "for k in range(len(airport_solution) - 1):\n",
    "    # Calculate the cost and assign it to the dictionary with key k\n",
    "    airport_solution_feasibility[k] = Data_Preprocessing.get_cost(\n",
    "        day=k + min(Data_Preprocessing.list_days),\n",
    "        from_airport=airport_solution[k],\n",
    "        to_airport=airport_solution[k + 1]\n",
    "    )\n",
    "\n",
    "airport_solution_feasibility"
   ]
  },
  {
   "cell_type": "code",
   "execution_count": 570,
   "metadata": {},
   "outputs": [],
   "source": [
    "area=['0', '1', '2', '3', '4', '5', '6', '7', '8', '9', '0']\n",
    "airport=area.copy()"
   ]
  },
  {
   "cell_type": "code",
   "execution_count": 571,
   "metadata": {},
   "outputs": [
    {
     "data": {
      "text/plain": [
       "'AB1'"
      ]
     },
     "execution_count": 571,
     "metadata": {},
     "output_type": "execute_result"
    }
   ],
   "source": [
    "random.choice(Data_Preprocessing.airports_by_area.get(\"1\"))"
   ]
  },
  {
   "cell_type": "code",
   "execution_count": 572,
   "metadata": {},
   "outputs": [
    {
     "data": {
      "text/plain": [
       "['AB1', 'AB1', 'AB1', 'AB1', 'AB1', 'AB1', 'AB1', 'AB1', 'AB1', 'AB1', 'AB1']"
      ]
     },
     "execution_count": 572,
     "metadata": {},
     "output_type": "execute_result"
    }
   ],
   "source": [
    "for k in range(len(area)):\n",
    "    airport[k]=random.choice(Data_Preprocessing.airports_by_area.get(\"1\"))\n",
    "    \n",
    "airport"
   ]
  },
  {
   "cell_type": "markdown",
   "metadata": {},
   "source": [
    "##### BACKUP"
   ]
  },
  {
   "cell_type": "code",
   "execution_count": 573,
   "metadata": {},
   "outputs": [],
   "source": [
    "class heuristics:\n",
    "    def __init__(self, data_preprocessing_class):\n",
    "        self.data = data_preprocessing_class\n",
    "        \n",
    "        self.starting_airport = self.data.starting_airport\n",
    "        self.starting_area=self.data.starting_area\n",
    "        \n",
    "        self.total_cost = 0\n",
    "        \n",
    "        self.create_initial_random_solution()\n",
    "    \n",
    "    def cost(self, airport_solution):\n",
    "        # Calculate the total cost of the provided solution\n",
    "        total_cost = 0\n",
    "        for day, (from_airport, to_airport) in enumerate(zip(airport_solution, airport_solution[1:]), start=min(self.data.list_days)):\n",
    "            total_cost += self.data.get_cost(day, from_airport, to_airport)\n",
    "        return total_cost\n",
    "    \n",
    "    def feasibility(self, solution):\n",
    "        # Check if the provided solution is feasible\n",
    "        visited_areas = set()\n",
    "        for day, (from_airport, to_airport) in enumerate(zip(solution, solution[1:]), start=min(self.data.list_days)):\n",
    "            area = self.data.associated_area_to_airport(to_airport)\n",
    "            if area in visited_areas:\n",
    "                return False\n",
    "            visited_areas.add(area)\n",
    "            if self.data.get_cost(day, from_airport, to_airport) == float('inf'):\n",
    "                return False\n",
    "\n",
    "        # Check if trip starts from the given city and ends in any city of the starting area\n",
    "        if solution[0] != self.data.starting_airport or self.data.associated_area_to_airport(solution[-1]) != self.data.starting_area:\n",
    "            return False\n",
    "\n",
    "        return len(visited_areas) == self.data.number_of_areas\n",
    "    \n",
    "    def create_initial_random_solution(self):\n",
    "        airport_initial_solution=self.data.list_areas\n",
    "        \n",
    "        for k in range(len(airport_initial_solution)):\n",
    "            if airport_initial_solution[k]==self.starting_area:\n",
    "                heuristic_operators.swap_target(arr=airport_initial_solution,\n",
    "                                                from_index=k,\n",
    "                                                to_index=0)\n",
    "        airport_initial_solution.append(self.starting_area)\n",
    "        self.initial_solution=airport_initial_solution\n",
    "        \n",
    "    def improve_initial_solution(self,initial_solution):\n",
    "        LLH_a=lambda : heuristic_operators.swap(arr=solution,a=x,b=y)\n",
    "        \n",
    "        while self.feasibility(solution=initial_solution)!=True:\n",
    "            x=np.random.randint(1,len(self.data.list_days))\n",
    "            y=np.random.randint(1,len(self.data.list_days))\n",
    "            \n",
    "            solution=initial_solution.copy()\n",
    "            \n",
    "            LLH_a()\n",
    "\n",
    "            if self.feasibility(solution=solution):\n",
    "                return True\n",
    "        \n",
    "# Create an instance of the heuristics class\n",
    "Heuristics = heuristics(data_preprocessing_class=Data_Preprocessing)\n",
    "#Heuristics.improve_initial_solution(Heuristics.initial_solution)"
   ]
  },
  {
   "cell_type": "code",
   "execution_count": 574,
   "metadata": {},
   "outputs": [
    {
     "data": {
      "text/plain": [
       "['0', '1', '2', '3', '4', '5', '6', '7', '8', '9', '0', '0']"
      ]
     },
     "execution_count": 574,
     "metadata": {},
     "output_type": "execute_result"
    }
   ],
   "source": [
    "Heuristics.initial_solution"
   ]
  }
 ],
 "metadata": {
  "kernelspec": {
   "display_name": "Python 3",
   "language": "python",
   "name": "python3"
  },
  "language_info": {
   "codemirror_mode": {
    "name": "ipython",
    "version": 3
   },
   "file_extension": ".py",
   "mimetype": "text/x-python",
   "name": "python",
   "nbconvert_exporter": "python",
   "pygments_lexer": "ipython3",
   "version": "3.10.11"
  }
 },
 "nbformat": 4,
 "nbformat_minor": 2
}
