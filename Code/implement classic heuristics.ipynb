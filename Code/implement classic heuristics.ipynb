{
 "cells": [
  {
   "cell_type": "code",
   "execution_count": 244,
   "metadata": {},
   "outputs": [],
   "source": [
    "import matplotlib.pyplot as plt\n",
    "import numpy as np\n",
    "import random as r\n",
    "import math"
   ]
  },
  {
   "cell_type": "code",
   "execution_count": 245,
   "metadata": {},
   "outputs": [],
   "source": [
    "class data_preprocessing:\n",
    "    def __init__(self,instance_path):\n",
    "        self.instance_path=instance_path\n",
    "        self.info, self.flights = self.read_file(f_name=self.instance_path)\n",
    "        \n",
    "        self.flights_by_day_dict = self.flights_by_day(flight_list=self.flights)\n",
    "        self.list_days= self.flights_by_day_dict.keys()\n",
    "        self.airports_by_area = self.get_airports_by_areas()\n",
    "        \n",
    "        self.number_of_areas,self.starting_airport=int(self.info[0][0]),self.info[0][1]\n",
    "        self.starting_area=self.associated_area_to_airport(airport=self.starting_airport)\n",
    "        \n",
    "        self.visited_areas=[self.associated_area_to_airport(self.starting_airport)]\n",
    "        \n",
    "    def read_file(self,f_name):\n",
    "        dist = []\n",
    "        line_nu = -1\n",
    "        with open(f_name) as infile:\n",
    "            for line in infile:\n",
    "                line_nu += 1\n",
    "                if line_nu == 0:\n",
    "                    index = int(line.split()[0]) * 2 + 1\n",
    "                if line_nu >= index:\n",
    "                    temp = line.split()\n",
    "                    temp[2] = int(temp[2])\n",
    "                    temp[3] = int(temp[3])\n",
    "                    dist.append(temp)\n",
    "                else:\n",
    "                    dist.append(line.split())\n",
    "            info = dist[:int(dist[0][0])*2+1]\n",
    "            flights = dist[int(dist[0][0])*2+1:]\n",
    "        return info, flights\n",
    "    \n",
    "    def flights_by_day(self,flight_list):\n",
    "        # Create an empty dictionary to hold flights organized by day\n",
    "        flights_by_day = {}\n",
    "\n",
    "        # Iterate over each flight in the input list\n",
    "        for flight in flight_list:\n",
    "            # Extract the day from the flight entry\n",
    "            day = flight[2]\n",
    "\n",
    "            # Create a flight entry without the day\n",
    "            flight_without_day = flight[:2] + flight[3:]\n",
    "\n",
    "            # Add the flight to the corresponding day in the dictionary\n",
    "            if day not in flights_by_day:\n",
    "                flights_by_day[day] = []\n",
    "            flights_by_day[day].append(flight_without_day)\n",
    "            \n",
    "        return flights_by_day\n",
    "    \n",
    "    def flights_from_airport(self,flights_by_day, from_airport, considered_day):\n",
    "        flights_from_airport = []\n",
    "        for day, flights in flights_by_day.items():\n",
    "            if day==considered_day:\n",
    "                for flight in flights:\n",
    "                    if flight[0] == from_airport:\n",
    "                        flights_from_airport.append(flight)\n",
    "                return flights_from_airport\n",
    "            else:\n",
    "                return None\n",
    "\n",
    "    def get_cost(self, day, from_airport, to_airport):\n",
    "        flights = self.flights_by_day_dict.get(day, [])\n",
    "        return next(\n",
    "            (\n",
    "                flight[2]\n",
    "                for flight in flights\n",
    "                if flight[0] == from_airport and flight[1] == to_airport\n",
    "            ),\n",
    "            float('inf'),\n",
    "        )\n",
    "    \n",
    "    def get_airports_by_areas(self):\n",
    "        area_num = int(self.info[0][0])\n",
    "        return {f\"{i}\": self.info[2+i * 2] for i in range(0, area_num)}\n",
    "    \n",
    "    def associated_area_to_airport(self,airport):\n",
    "        return next(\n",
    "            (\n",
    "                area\n",
    "                for area, airports in self.airports_by_area.items()\n",
    "                if airport in airports\n",
    "            ),\n",
    "            \"Airport not found\",\n",
    "        ) \n",
    "    \n",
    "    def possible_flights_from_an_airport_at_a_specific_day(self,day,from_airport):\n",
    "        daily_flights = self.flights_by_day_dict.get(day, [])\n",
    "        \n",
    "        flights_from_airport = []\n",
    "        for flight in daily_flights:\n",
    "            if flight[0] == from_airport:\n",
    "                \n",
    "                destination_area = self.associated_area_to_airport(airport=flight[1])\n",
    "                if destination_area not in self.visited_areas:\n",
    "                    flights_from_airport.append(flight)\n",
    "\n",
    "        return flights_from_airport"
   ]
  },
  {
   "cell_type": "code",
   "execution_count": 246,
   "metadata": {},
   "outputs": [],
   "source": [
    "#print(Data_Preprocessing.starting_airport)\n",
    "#print(Data_Preprocessing.associated_area_to_airport(airport=Data_Preprocessing.starting_airport))\n",
    "#print(Data_Preprocessing.visited_areas)\n",
    "#print(Data_Preprocessing.airports_by_area)\n",
    "#print(Data_Preprocessing.flights_by_day_dict)"
   ]
  },
  {
   "cell_type": "markdown",
   "metadata": {},
   "source": [
    "##### First greedy algorithm approach"
   ]
  },
  {
   "cell_type": "code",
   "execution_count": 341,
   "metadata": {},
   "outputs": [],
   "source": [
    "class heuristics:\n",
    "    def __init__(self, data_preprocessing_class):\n",
    "        self.data = data_preprocessing_class\n",
    "        self.current_airport = self.data.starting_airport\n",
    "        self.visited_areas = set(self.data.visited_areas)\n",
    "        self.route = [self.current_airport]\n",
    "        self.total_cost = 0\n",
    "    \n",
    "    \n",
    "    def cost(self, solution):\n",
    "        # Calculate the total cost of the provided solution\n",
    "        total_cost = 0\n",
    "        for day, (from_airport, to_airport) in enumerate(zip(solution, solution[1:]), start=1):\n",
    "            total_cost += self.data.get_cost(day, from_airport, to_airport)\n",
    "        return total_cost\n",
    "    \n",
    "    def feasibility(self, solution):\n",
    "        # Check if the provided solution is feasible\n",
    "        visited_areas = set()\n",
    "        for day, (from_airport, to_airport) in enumerate(zip(solution, solution[1:]), start=1):\n",
    "            area = self.data.associated_area_to_airport(to_airport)\n",
    "            if area in visited_areas:\n",
    "                return f\"Area in visited areas from {from_airport} to {to_airport}\"\n",
    "            visited_areas.add(area)\n",
    "            if self.data.get_cost(day, from_airport, to_airport) == float('inf'):\n",
    "                return f\"No existing flight from {from_airport} to {to_airport}\"\n",
    "\n",
    "        # Check if trip starts from the given city and ends in any city of the starting area\n",
    "        if solution[0] != self.data.starting_airport or self.data.associated_area_to_airport(solution[-1]) != self.data.starting_area:\n",
    "            return f\"Starting city or last city not in good area\"\n",
    "\n",
    "        return len(visited_areas) == self.data.number_of_areas\n",
    "    \n",
    "    def create_initial_solution(self):\n",
    "        # Generate an initial feasible solution using a greedy approach\n",
    "        for day in range(min(self.data.list_days),max(self.data.list_days)):\n",
    "            \n",
    "            next_flight = self.find_next_area(day)\n",
    "            if not next_flight:\n",
    "                print(\"No valid flight found for day\", day)\n",
    "                return\n",
    "            \n",
    "            self.route.append(next_flight[1])\n",
    "            self.total_cost += self.data.get_cost(day, next_flight[0], next_flight[1])\n",
    "            self.visited_areas.add(self.data.associated_area_to_airport(next_flight[1]))\n",
    "            self.current_airport = next_flight[1]\n",
    "            \n",
    "        # Return to starting area on the last day\n",
    "        last_day = self.data.number_of_areas\n",
    "        next_flight = self.find_next_area(last_day)\n",
    "        if next_flight:\n",
    "            self.route.append(next_flight[1])\n",
    "            self.total_cost += self.data.get_cost(last_day, next_flight[0], next_flight[1])\n",
    "        \n",
    "        return self.route, self.total_cost\n",
    "    \n",
    "\n",
    "    def find_next_area(self, day):\n",
    "        min_cost = float('inf')\n",
    "        next_flight = None\n",
    "        \n",
    "        flights_from_current = self.data.possible_flights_from_an_airport_at_a_specific_day(day, self.current_airport)\n",
    "        if not flights_from_current:\n",
    "            return \"No flights at this day\"\n",
    "        \n",
    "        for flight in flights_from_current:\n",
    "            cost = self.data.get_cost(day, flight[0], flight[1])\n",
    "            if cost <= min_cost and self.data.associated_area_to_airport(flight[1]) not in self.visited_areas:\n",
    "                min_cost = cost\n",
    "                next_flight = flight\n",
    "        \n",
    "        return next_flight\n",
    "    \n",
    "    def find_solution(self):\n",
    "        # Implement a simple local search to improve the initial solution\n",
    "        best_solution, best_cost = self.create_initial_solution()\n",
    "        \n",
    "        # Example of local search: swap two cities in the route and check if the new solution is better\n",
    "        improved = True\n",
    "        while improved:\n",
    "            improved = False\n",
    "            for i in range(1, len(best_solution) - 1):\n",
    "                for j in range(i + 1, len(best_solution) - 1):\n",
    "                    new_solution = best_solution[:]\n",
    "                    new_solution[i], new_solution[j] = new_solution[j], new_solution[i]\n",
    "                    if self.feasibility(new_solution):\n",
    "                        new_cost = self.cost(new_solution)\n",
    "                        if new_cost < best_cost:\n",
    "                            best_solution, best_cost = new_solution, new_cost\n",
    "                            improved = True\n",
    "        return best_solution, best_cost"
   ]
  },
  {
   "cell_type": "code",
   "execution_count": 332,
   "metadata": {},
   "outputs": [],
   "source": [
    "Data_Preprocessing=data_preprocessing(instance_path=\"Flight connections dataset/1.in\")"
   ]
  },
  {
   "cell_type": "code",
   "execution_count": 333,
   "metadata": {},
   "outputs": [
    {
     "name": "stdout",
     "output_type": "stream",
     "text": [
      "Best Route: ['AB0', 'AB1', 'AB8', 'AB4', 'AB5', 'AB3', 'AB7', 'AB2', 'AB9', 'AB6']\n",
      "Best Cost: 2718\n"
     ]
    }
   ],
   "source": [
    "Heuristics=heuristics(data_preprocessing_class=Data_Preprocessing)\n",
    "best_route, best_cost = Heuristics.find_solution()\n",
    "\n",
    "print(\"Best Route:\", best_route)\n",
    "print(\"Best Cost:\", best_cost)"
   ]
  },
  {
   "cell_type": "code",
   "execution_count": 335,
   "metadata": {},
   "outputs": [
    {
     "data": {
      "text/plain": [
       "'Starting city or last city not in good area'"
      ]
     },
     "execution_count": 335,
     "metadata": {},
     "output_type": "execute_result"
    }
   ],
   "source": [
    "Heuristics.feasibility(solution=['AB0', 'AB1', 'AB8', 'AB4', 'AB9', 'AB2', 'AB7', 'AB3', 'AB5', 'AB6'])"
   ]
  },
  {
   "cell_type": "code",
   "execution_count": 336,
   "metadata": {},
   "outputs": [
    {
     "data": {
      "text/plain": [
       "2718"
      ]
     },
     "execution_count": 336,
     "metadata": {},
     "output_type": "execute_result"
    }
   ],
   "source": [
    "Heuristics.cost(['AB0', 'AB1', 'AB8', 'AB4', 'AB5', 'AB3', 'AB7', 'AB2', 'AB9', 'AB6'])"
   ]
  },
  {
   "cell_type": "code",
   "execution_count": 338,
   "metadata": {},
   "outputs": [
    {
     "data": {
      "text/plain": [
       "{'0', '1', '2', '3', '4', '5', '6', '7', '8', '9'}"
      ]
     },
     "execution_count": 338,
     "metadata": {},
     "output_type": "execute_result"
    }
   ],
   "source": [
    "Heuristics.visited_areas"
   ]
  },
  {
   "cell_type": "code",
   "execution_count": 331,
   "metadata": {},
   "outputs": [
    {
     "data": {
      "text/plain": [
       "'8'"
      ]
     },
     "execution_count": 331,
     "metadata": {},
     "output_type": "execute_result"
    }
   ],
   "source": [
    "Data_Preprocessing.associated_area_to_airport('AB8')"
   ]
  },
  {
   "cell_type": "code",
   "execution_count": 327,
   "metadata": {},
   "outputs": [
    {
     "data": {
      "text/plain": [
       "[['AB0', 'AB1', 1],\n",
       " ['AB0', 'AB2', 3619],\n",
       " ['AB0', 'AB3', 4618],\n",
       " ['AB0', 'AB4', 2127],\n",
       " ['AB1', 'AB0', 5639],\n",
       " ['AB1', 'AB2', 4217],\n",
       " ['AB1', 'AB3', 1305],\n",
       " ['AB1', 'AB4', 2484],\n",
       " ['AB2', 'AB0', 4079],\n",
       " ['AB2', 'AB1', 3171],\n",
       " ['AB2', 'AB3', 4461],\n",
       " ['AB2', 'AB4', 2820],\n",
       " ['AB3', 'AB0', 2689],\n",
       " ['AB3', 'AB1', 4667],\n",
       " ['AB3', 'AB2', 5890],\n",
       " ['AB3', 'AB4', 4244],\n",
       " ['AB4', 'AB0', 5744],\n",
       " ['AB4', 'AB1', 3820],\n",
       " ['AB4', 'AB2', 1462],\n",
       " ['AB4', 'AB3', 1621],\n",
       " ['AB5', 'AB6', 5596],\n",
       " ['AB5', 'AB7', 2531],\n",
       " ['AB5', 'AB8', 1208],\n",
       " ['AB5', 'AB9', 1244],\n",
       " ['AB6', 'AB5', 4655],\n",
       " ['AB6', 'AB7', 2347],\n",
       " ['AB6', 'AB8', 3343],\n",
       " ['AB6', 'AB9', 4201],\n",
       " ['AB7', 'AB5', 5519],\n",
       " ['AB7', 'AB6', 4331],\n",
       " ['AB7', 'AB8', 3709],\n",
       " ['AB7', 'AB9', 5391],\n",
       " ['AB8', 'AB5', 3274],\n",
       " ['AB8', 'AB6', 1564],\n",
       " ['AB8', 'AB7', 5273],\n",
       " ['AB8', 'AB9', 5535],\n",
       " ['AB9', 'AB5', 3873],\n",
       " ['AB9', 'AB6', 3329],\n",
       " ['AB9', 'AB7', 4257],\n",
       " ['AB9', 'AB8', 4722],\n",
       " ['AB0', 'AB5', 173],\n",
       " ['AB5', 'AB0', 200],\n",
       " ['AB0', 'AB6', 179],\n",
       " ['AB6', 'AB0', 205],\n",
       " ['AB0', 'AB7', 192],\n",
       " ['AB7', 'AB0', 108],\n",
       " ['AB0', 'AB8', 283],\n",
       " ['AB8', 'AB0', 238],\n",
       " ['AB0', 'AB9', 103],\n",
       " ['AB9', 'AB0', 109],\n",
       " ['AB1', 'AB5', 259],\n",
       " ['AB5', 'AB1', 156],\n",
       " ['AB1', 'AB6', 150],\n",
       " ['AB6', 'AB1', 166],\n",
       " ['AB1', 'AB7', 104],\n",
       " ['AB7', 'AB1', 279],\n",
       " ['AB1', 'AB8', 149],\n",
       " ['AB8', 'AB1', 152],\n",
       " ['AB1', 'AB9', 209],\n",
       " ['AB9', 'AB1', 290],\n",
       " ['AB2', 'AB5', 296],\n",
       " ['AB5', 'AB2', 126],\n",
       " ['AB2', 'AB6', 169],\n",
       " ['AB6', 'AB2', 272],\n",
       " ['AB2', 'AB7', 189],\n",
       " ['AB7', 'AB2', 202],\n",
       " ['AB2', 'AB8', 293],\n",
       " ['AB8', 'AB2', 199],\n",
       " ['AB2', 'AB9', 101],\n",
       " ['AB9', 'AB2', 180],\n",
       " ['AB3', 'AB5', 239],\n",
       " ['AB5', 'AB3', 201],\n",
       " ['AB3', 'AB6', 103],\n",
       " ['AB6', 'AB3', 166],\n",
       " ['AB3', 'AB7', 288],\n",
       " ['AB7', 'AB3', 166],\n",
       " ['AB3', 'AB8', 232],\n",
       " ['AB8', 'AB3', 134],\n",
       " ['AB3', 'AB9', 231],\n",
       " ['AB9', 'AB3', 232],\n",
       " ['AB4', 'AB5', 227],\n",
       " ['AB5', 'AB4', 156],\n",
       " ['AB4', 'AB6', 235],\n",
       " ['AB6', 'AB4', 169],\n",
       " ['AB4', 'AB7', 267],\n",
       " ['AB7', 'AB4', 287],\n",
       " ['AB4', 'AB8', 210],\n",
       " ['AB8', 'AB4', 275],\n",
       " ['AB4', 'AB9', 122],\n",
       " ['AB9', 'AB4', 243]]"
      ]
     },
     "execution_count": 327,
     "metadata": {},
     "output_type": "execute_result"
    }
   ],
   "source": [
    "Data_Preprocessing.flights_by_day_dict.get(min(Data_Preprocessing.list_days))"
   ]
  },
  {
   "cell_type": "markdown",
   "metadata": {},
   "source": [
    "##### Backpropagation"
   ]
  },
  {
   "cell_type": "code",
   "execution_count": 293,
   "metadata": {},
   "outputs": [
    {
     "name": "stdout",
     "output_type": "stream",
     "text": [
      "No valid initial solution found\n",
      "Best Route: None\n",
      "Best Cost: inf\n"
     ]
    }
   ],
   "source": [
    "class heuristics:\n",
    "    def __init__(self, data_preprocessing_class):\n",
    "        self.data = data_preprocessing_class\n",
    "        self.current_airport = self.data.starting_airport\n",
    "        self.visited_areas = set(self.data.visited_areas)\n",
    "        self.route = [self.current_airport]\n",
    "        self.total_cost = 0\n",
    "    \n",
    "    def create_initial_solution(self):\n",
    "        def backtrack(day):\n",
    "            if day > self.data.number_of_areas:\n",
    "                return True\n",
    "            \n",
    "            flights_from_current = self.data.possible_flights_from_an_airport_at_a_specific_day(day, self.current_airport)\n",
    "            if not flights_from_current:\n",
    "                return False\n",
    "            \n",
    "            for flight in flights_from_current:\n",
    "                next_airport = flight[1]\n",
    "                next_area = self.data.associated_area_to_airport(next_airport)\n",
    "                if next_area not in self.visited_areas:\n",
    "                    self.route.append(next_airport)\n",
    "                    self.total_cost += self.data.get_cost(day, flight[0], flight[1])\n",
    "                    self.visited_areas.add(next_area)\n",
    "                    self.current_airport = next_airport\n",
    "\n",
    "                    if backtrack(day + 1):\n",
    "                        return True\n",
    "\n",
    "                    # Backtrack\n",
    "                    self.route.pop()\n",
    "                    self.total_cost -= self.data.get_cost(day, flight[0], flight[1])\n",
    "                    self.visited_areas.remove(next_area)\n",
    "                    self.current_airport = flight[0]\n",
    "            \n",
    "            return False\n",
    "        \n",
    "        # Start backtracking from the first day\n",
    "        if backtrack(1):\n",
    "            return self.route, self.total_cost\n",
    "        else:\n",
    "            print(\"No valid initial solution found\")\n",
    "            return None, float('inf')\n",
    "    \n",
    "    def cost(self, solution):\n",
    "        # Calculate the total cost of the provided solution\n",
    "        total_cost = 0\n",
    "        for day, (from_airport, to_airport) in enumerate(zip(solution, solution[1:]), start=1):\n",
    "            total_cost += self.data.get_cost(day, from_airport, to_airport)\n",
    "        return total_cost\n",
    "    \n",
    "    def feasibility(self, solution):\n",
    "        # Check if the provided solution is feasible\n",
    "        visited_areas = set()\n",
    "        for day, (from_airport, to_airport) in enumerate(zip(solution, solution[1:]), start=1):\n",
    "            area = self.data.associated_area_to_airport(to_airport)\n",
    "            if area in visited_areas:\n",
    "                return False\n",
    "            visited_areas.add(area)\n",
    "            if self.data.get_cost(day, from_airport, to_airport) == float('inf'):\n",
    "                return False\n",
    "\n",
    "        # Check if trip starts from the given city and ends in any city of the starting area\n",
    "        if solution[0] != self.data.starting_airport or self.data.associated_area_to_airport(solution[-1]) != self.data.starting_area:\n",
    "            return False\n",
    "\n",
    "        return len(visited_areas) == self.data.number_of_areas\n",
    "    \n",
    "    def find_solution(self):\n",
    "        # Implement a simple local search to improve the initial solution\n",
    "        best_solution, best_cost = self.create_initial_solution()\n",
    "        \n",
    "        if best_solution is None:\n",
    "            return None, float('inf')\n",
    "        \n",
    "        # Example of local search: swap two cities in the route and check if the new solution is better\n",
    "        improved = True\n",
    "        while improved:\n",
    "            improved = False\n",
    "            for i in range(1, len(best_solution) - 1):\n",
    "                for j in range(i + 1, len(best_solution) - 1):\n",
    "                    new_solution = best_solution[:]\n",
    "                    new_solution[i], new_solution[j] = new_solution[j], new_solution[i]\n",
    "                    if self.feasibility(new_solution):\n",
    "                        new_cost = self.cost(new_solution)\n",
    "                        if new_cost < best_cost:\n",
    "                            best_solution, best_cost = new_solution, new_cost\n",
    "                            improved = True\n",
    "        return best_solution, best_cost\n",
    "    \n",
    "    def find_next_area(self, day):\n",
    "        min_cost = float('inf')\n",
    "        next_flight = None\n",
    "        \n",
    "        flights_from_current = self.data.possible_flights_from_an_airport_at_a_specific_day(day, self.current_airport)\n",
    "        if not flights_from_current:\n",
    "            return None\n",
    "        \n",
    "        for flight in flights_from_current:\n",
    "            cost = self.data.get_cost(day, flight[0], flight[1])\n",
    "            if cost < min_cost and self.data.associated_area_to_airport(flight[1]) not in self.visited_areas:\n",
    "                min_cost = cost\n",
    "                next_flight = flight\n",
    "        \n",
    "        return next_flight\n",
    "\n",
    "# Create an instance of the heuristics class\n",
    "Heuristics = heuristics(data_preprocessing_class=Data_Preprocessing)\n",
    "best_route, best_cost = Heuristics.find_solution()\n",
    "\n",
    "print(\"Best Route:\", best_route)\n",
    "print(\"Best Cost:\", best_cost)"
   ]
  },
  {
   "cell_type": "markdown",
   "metadata": {},
   "source": [
    "##### YARO"
   ]
  },
  {
   "cell_type": "code",
   "execution_count": null,
   "metadata": {},
   "outputs": [],
   "source": [
    "def ReadFile(f_name):\n",
    "    dist = []\n",
    "    line_nu = -1\n",
    "    with open(f_name) as infile:\n",
    "        for line in infile:\n",
    "            line_nu += 1\n",
    "            if line_nu == 0:\n",
    "                index = int(line.split()[0]) * 2 + 1\n",
    "            if line_nu >= index:\n",
    "                temp = line.split()\n",
    "                temp[2] = int(temp[2])\n",
    "                temp[3] = int(temp[3])\n",
    "                dist.append(temp)\n",
    "            else:\n",
    "                dist.append(line.split())\n",
    "        info = dist[0:int(dist[0][0])*2+1]\n",
    "        flights = dist[int(dist[0][0])*2+1:]\n",
    "    return info, flights\n",
    "\n",
    "def CreateDistances(File, areas_n):\n",
    "    mydict = {}\n",
    "    for i in File:\n",
    "        if ((i[0],i[1],i[2])) in mydict.keys():\n",
    "            if mydict[(i[0],i[1],i[2])] > i[3]:\n",
    "                mydict[(i[0],i[1],i[2])] = i[3]\n",
    "        else:\n",
    "            mydict[(i[0],i[1],i[2])] = i[3]\n",
    "    return mydict"
   ]
  },
  {
   "cell_type": "code",
   "execution_count": null,
   "metadata": {},
   "outputs": [],
   "source": [
    "file=\"Flight connections dataset/1.in\"\n",
    "File=ReadFile(f_name=file)"
   ]
  },
  {
   "cell_type": "code",
   "execution_count": null,
   "metadata": {},
   "outputs": [],
   "source": [
    "areas_and_airports=File[0][1:]"
   ]
  },
  {
   "cell_type": "code",
   "execution_count": null,
   "metadata": {},
   "outputs": [],
   "source": [
    "dictionnary=CreateDistances(File[1],\n",
    "                areas_n=int(File[0][0][0]))"
   ]
  },
  {
   "cell_type": "code",
   "execution_count": null,
   "metadata": {},
   "outputs": [],
   "source": [
    "def Initial_Sol(start_air, areas_and_airports, mydict, areas_n):\n",
    "    start_area = 0\n",
    "    for i in range(areas_n):\n",
    "        if start_air in areas_and_airports[i*2 + 1]:\n",
    "            start_area = i\n",
    "            break\n",
    "    solArea = list(range(areas_n + 1))\n",
    "    Operators.Swap(solArea, 0, start_area)\n",
    "    solArea[areas_n] = start_area\n",
    "    \n",
    "    solAirport = [start_air]\n",
    "    for i in range(1,areas_n + 1):\n",
    "        solAirport.append(areas_and_airports[solArea[i]*2 + 1][0])\n",
    "    \n",
    "    return solArea, solAirport"
   ]
  }
 ],
 "metadata": {
  "kernelspec": {
   "display_name": "Python 3",
   "language": "python",
   "name": "python3"
  },
  "language_info": {
   "codemirror_mode": {
    "name": "ipython",
    "version": 3
   },
   "file_extension": ".py",
   "mimetype": "text/x-python",
   "name": "python",
   "nbconvert_exporter": "python",
   "pygments_lexer": "ipython3",
   "version": "3.10.11"
  }
 },
 "nbformat": 4,
 "nbformat_minor": 2
}
